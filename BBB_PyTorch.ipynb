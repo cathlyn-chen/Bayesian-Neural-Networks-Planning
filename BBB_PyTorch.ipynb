{
  "nbformat": 4,
  "nbformat_minor": 0,
  "metadata": {
    "colab": {
      "name": "BBB PyTorch.ipynb",
      "provenance": [],
      "collapsed_sections": []
    },
    "kernelspec": {
      "name": "python3",
      "display_name": "Python 3"
    },
    "language_info": {
      "name": "python"
    }
  },
  "cells": [
    {
      "cell_type": "code",
      "metadata": {
        "id": "rdAHZXoVErd2"
      },
      "source": [
        "import torch\n",
        "import torch.nn as nn\n",
        "from torch.autograd import Variable\n",
        "from torchvision import datasets\n",
        "from torchvision.transforms import ToTensor\n",
        "import numpy as np\n",
        "import matplotlib.pyplot as plt"
      ],
      "execution_count": 1,
      "outputs": []
    },
    {
      "cell_type": "markdown",
      "metadata": {
        "id": "4Uy5OiiatVq_"
      },
      "source": [
        "# **MNIST Dataset**"
      ]
    },
    {
      "cell_type": "code",
      "metadata": {
        "id": "jE1GMi1ZK4xn"
      },
      "source": [
        "train = datasets.MNIST(\n",
        "    root=\".\",\n",
        "    train=True,\n",
        "    download=True,\n",
        "    transform=ToTensor()\n",
        ")\n",
        "\n",
        "train_data = [np.array(torch.flatten(data[:-1][0])) for data in train]\n",
        "train_label = [data[-1] for data in train]\n",
        "\n",
        "test = datasets.MNIST(\n",
        "    root=\".\",\n",
        "    train=False,\n",
        "    download=True,\n",
        "    transform=ToTensor()\n",
        ")\n",
        "\n",
        "test_data = [np.array(torch.flatten(data[:-1][0])) for data in test]\n",
        "test_label = [data[-1] for data in test]"
      ],
      "execution_count": null,
      "outputs": []
    },
    {
      "cell_type": "code",
      "metadata": {
        "id": "BtKvLMChOcoe"
      },
      "source": [
        "train_label_one_hot = np.zeros((len(train_label), 10))\n",
        "train_label_one_hot[np.arange(len(train_label)), train_label] = 1\n",
        "train_label_one_hot = torch.tensor(train_label_one_hot, dtype=float).float()\n",
        "\n",
        "test_label_one_hot = np.zeros((len(test_label), 10))\n",
        "test_label_one_hot[np.arange(len(test_label)), test_label] = 1\n",
        "test_label_one_hot = torch.tensor(test_label_one_hot).float()"
      ],
      "execution_count": 3,
      "outputs": []
    },
    {
      "cell_type": "markdown",
      "metadata": {
        "id": "YGmM2EWO4bMI"
      },
      "source": [
        "# **Bayes by Backprop (BBB)**\n",
        "Gaussian Variational Posterior"
      ]
    },
    {
      "cell_type": "code",
      "metadata": {
        "id": "wrAD06WktCTy"
      },
      "source": [
        "def log_gaussian(x, mu, sigma):\n",
        "    return float(-0.5 * np.log(2 * np.pi) - np.log(np.abs(sigma))) - (x - mu)**2 / (2 * sigma**2)"
      ],
      "execution_count": 5,
      "outputs": []
    },
    {
      "cell_type": "markdown",
      "metadata": {
        "id": "TM0EF-B4u4ad"
      },
      "source": [
        "Gaussian: $\\displaystyle f(x)=\\frac 1 {\\sigma \\sqrt{2 \\pi}} \\exp\\left(-\\frac{(x-\\mu)^2}{2\\sigma^2}\\right)$ \n",
        "\n",
        "Log Gaussian: $\\displaystyle \\log f(x) = -\\frac 1 2 \\cdot \\log(2\\pi)-\\log(|\\sigma|)-\\frac{(x-\\mu)^2}{2\\sigma^2}$\n"
      ]
    },
    {
      "cell_type": "code",
      "metadata": {
        "id": "yYOSDB7GNuT7"
      },
      "source": [
        "def log_gaussian_rho(x, mu, rho):\n",
        "    return float(- 0.5 * np.log(2 * np.pi)) - torch.log(torch.log(1 + torch.exp(rho))) - (x - mu)**2 / (2 * torch.log(1 + torch.exp(rho))**2)"
      ],
      "execution_count": 7,
      "outputs": []
    },
    {
      "cell_type": "markdown",
      "metadata": {
        "id": "vuT3LP29vdO4"
      },
      "source": [
        "$\\sigma = \\log(1+\\exp(\\rho))$\n",
        "\n",
        "Log Gaussian: $\\displaystyle -\\frac 1 2 \\cdot \\log(2\\pi)-\\log(\\log(1+\\exp(\\rho)))-\\frac{(x-\\mu)^2}{2 \\log(1+\\exp(\\rho))^2}$"
      ]
    },
    {
      "cell_type": "code",
      "metadata": {
        "id": "jnpZGQyoGb4x"
      },
      "source": [
        "class BNNLayer(nn.Module):\n",
        "    def __init__(self, n_input, n_output, sigma_prior):\n",
        "        super(BNNLayer, self).__init__()\n",
        "        self.n_input = n_input\n",
        "        self.n_output = n_output\n",
        "        self.sigma_prior = sigma_prior\n",
        "        self.W_mu = nn.Parameter(torch.Tensor(n_input, n_output).normal_(0, 0.01))\n",
        "        self.W_rho = nn.Parameter(torch.Tensor(n_input, n_output).normal_(0, 0.01))\n",
        "        self.b_mu = nn.Parameter(torch.Tensor(n_output).uniform_(-0.01, 0.01))\n",
        "        self.b_rho = nn.Parameter(torch.Tensor(n_output).uniform_(-0.01, 0.01))\n",
        "        self.lpw = 0\n",
        "        self.lqw = 0\n",
        "    \n",
        "    def sample_epsilon(self):\n",
        "        return Variable(torch.Tensor(self.n_input, self.n_output).normal_(0, self.sigma_prior)), Variable(torch.Tensor(self.n_output).normal_(0, self.sigma_prior))\n",
        "\n",
        "    def forward(self, X, infer=False):\n",
        "        if infer:\n",
        "            output = torch.mm(X, self.W_mu) + self.b_mu.expand(X.size()[0], self.n_output)\n",
        "            return output\n",
        "\n",
        "        # Step 1\n",
        "        epsilon_W, epsilon_b = self.sample_epsilon()\n",
        "\n",
        "        # Step 2\n",
        "        W = self.W_mu + torch.log(1 + torch.exp(self.W_rho)) * epsilon_W\n",
        "        b = self.b_mu + torch.log(1 + torch.exp(self.b_rho)) * epsilon_b\n",
        "        \n",
        "        # Step 3\n",
        "        self.lpw = log_gaussian(W, 0, self.sigma_prior).sum() + log_gaussian(b, 0, self.sigma_prior).sum()\n",
        "        \n",
        "        # Step 4\n",
        "        self.lqw = log_gaussian_rho(W, self.W_mu, self.W_rho).sum() + log_gaussian_rho(b, self.b_mu, self.b_rho).sum()\n",
        "\n",
        "        output = torch.mm(X, W) + b.expand(X.size()[0], self.n_output)\n",
        "        return output"
      ],
      "execution_count": 8,
      "outputs": []
    },
    {
      "cell_type": "markdown",
      "metadata": {
        "id": "BkKr36ZXwpT9"
      },
      "source": [
        "1. Sample unit Gaussian: $\\epsilon \\sim \\mathcal{N}(0, I)$\n",
        "2. Weights: $\\textbf{w}=\\mu+\\log(1+\\exp(\\rho)) \\circ \\epsilon$ where $\\sigma = \\log(1+\\exp(\\rho))$\n",
        "3. Prior: $\\displaystyle w \\sim \\mathcal{N}(0, \\sigma_0^2) \\\\\n",
        "\\log p(\\textbf{w}) =-\\frac 1 2 \\cdot \\log(2\\pi)-\\log(|\\sigma_0|)-\\frac{x^2}{2\\sigma_0^2}$\n",
        "4. Approximation: $\\displaystyle w \\sim \\mathcal{N}(\\mu, \\sigma^2)\\\\\n",
        " \\log q(w|\\theta)= -\\frac 1 2 \\cdot \\log(2\\pi)-\\rho-\\frac{(x-\\mu)^2}{2 e^{\\rho \\cdot 2}} $\n",
        "\n"
      ]
    },
    {
      "cell_type": "markdown",
      "metadata": {
        "id": "xtGD5fiE6j06"
      },
      "source": [
        "(Paper Reference)\n",
        "\n",
        "![Gaussian Variational Posterior.jpg](data:image/jpeg;base64,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)"
      ]
    },
    {
      "cell_type": "code",
      "metadata": {
        "id": "P-dS8G5uONev"
      },
      "source": [
        "class BNN(nn.Module):\n",
        "    def __init__(self, n_input, sigma_prior):\n",
        "        super(BNN, self).__init__()\n",
        "        self.l1 = BNNLayer(n_input, 200, sigma_prior)\n",
        "        self.l1_relu = nn.ReLU()\n",
        "        self.l2 = BNNLayer(200, 200, sigma_prior)\n",
        "        self.l2_relu = nn.ReLU()\n",
        "        self.l3 = BNNLayer(200, 200, sigma_prior)\n",
        "        self.l3_relu = nn.ReLU()\n",
        "        self.l4 = BNNLayer(200, 10, sigma_prior)\n",
        "        self.l4_softmax = nn.Softmax()\n",
        "\n",
        "    def forward(self, X, infer=False):\n",
        "        output = self.l1_relu(self.l1(X, infer))\n",
        "        output = self.l2_relu(self.l2(output, infer))\n",
        "        output = self.l3_relu(self.l3(output, infer))\n",
        "        output = self.l4_softmax(self.l4(output, infer))\n",
        "        return output\n",
        "\n",
        "    def get_lpw_lqw(self):\n",
        "        lpw = self.l1.lpw + self.l2.lpw + self.l3.lpw + self.l4.lpw\n",
        "        lqw = self.l1.lqw + self.l2.lqw + self.l3.lqw + self.l4.lqw\n",
        "        return lpw, lqw"
      ],
      "execution_count": 9,
      "outputs": []
    },
    {
      "cell_type": "markdown",
      "metadata": {
        "id": "ytyUU7iu463n"
      },
      "source": [
        "Sample $\\mathbf{w}^{(i)}$ from $q(\\mathbf{w}^{(i)}|\\theta)$\n",
        "\n"
      ]
    },
    {
      "cell_type": "code",
      "metadata": {
        "id": "W28sd-whOWqT"
      },
      "source": [
        "def forward_pass_samples(X, y):\n",
        "    s_log_pw, s_log_qw, s_log_likelihood = 0., 0., 0.\n",
        "    for _ in range(n_samples):\n",
        "        output = net(X)\n",
        "        sample_log_pw, sample_log_qw = net.get_lpw_lqw()\n",
        "        sample_log_likelihood = log_gaussian(y, output, sigma_prior).sum()\n",
        "        s_log_pw += sample_log_pw\n",
        "        s_log_qw += sample_log_qw\n",
        "        s_log_likelihood += sample_log_likelihood\n",
        "\n",
        "    return s_log_pw/n_samples, s_log_qw/n_samples, s_log_likelihood/n_samples"
      ],
      "execution_count": 10,
      "outputs": []
    },
    {
      "cell_type": "markdown",
      "metadata": {
        "id": "OOJwLGwf5dPf"
      },
      "source": [
        "Loss function - variational free energy\n",
        "\n",
        "\n",
        "$ f(\\textbf{w}, \\theta)=\\frac{1}{M}(\\log q(w|\\theta)-\\log p(w)) - p(\\mathcal{D}|\\textbf{w})$\n",
        "\n",
        "M = number of batches"
      ]
    },
    {
      "cell_type": "code",
      "metadata": {
        "id": "0MJiHpgQq7w-"
      },
      "source": [
        "def loss_fn(l_pw, l_qw, l_likelihood):\n",
        "    return ((1./n_batches) * (l_qw - l_pw) - l_likelihood).sum() / float(batch_size)"
      ],
      "execution_count": 11,
      "outputs": []
    },
    {
      "cell_type": "markdown",
      "metadata": {
        "id": "L_pRjBw15szD"
      },
      "source": [
        "# **Training**"
      ]
    },
    {
      "cell_type": "code",
      "metadata": {
        "id": "f5gGdLiWMGfV"
      },
      "source": [
        "n_input = len(train_data[0])  \n",
        "\n",
        "# Hyperparameters\n",
        "sigma_prior = float(np.exp(-3))\n",
        "n_samples = 3\n",
        "learning_rate = 0.001\n",
        "n_epochs = 150"
      ],
      "execution_count": 12,
      "outputs": []
    },
    {
      "cell_type": "code",
      "metadata": {
        "colab": {
          "base_uri": "https://localhost:8080/"
        },
        "id": "u-7y1jG5O7vH",
        "outputId": "786027a9-22bf-4c00-bc6c-0b39f92b4076"
      },
      "source": [
        "# Initialize network\n",
        "net = BNN(n_input, sigma_prior)\n",
        "optimizer = torch.optim.Adam(net.parameters(), lr=learning_rate)\n",
        "\n",
        "# Batch setting\n",
        "batch_size = 1000\n",
        "n_batches = len(train_data) / batch_size\n",
        "n_train_batches = int(len(train_data) / batch_size)\n",
        "\n",
        "log_pw, log_qw, log_likelihood = 0., 0., 0.\n",
        "test_acc = []\n",
        "test_err = []\n",
        "\n",
        "# Training loop\n",
        "for e in range(n_epochs):\n",
        "    errs = []\n",
        "\n",
        "    # Batch training\n",
        "    for b in range(n_train_batches):\n",
        "        net.zero_grad()\n",
        "\n",
        "        # Obtain minibatch\n",
        "        X = Variable(torch.Tensor(train_data[b * batch_size: (b+1) * batch_size]))\n",
        "        y = Variable(torch.Tensor(train_label_one_hot[b * batch_size: (b+1) * batch_size]))\n",
        "\n",
        "        log_pw, log_qw, log_likelihood = forward_pass_samples(X, y)\n",
        "        loss = loss_fn(log_pw, log_qw, log_likelihood)\n",
        "\n",
        "        errs.append(loss.data.numpy())\n",
        "        loss.backward()\n",
        "        optimizer.step()\n",
        "\n",
        "    with torch.no_grad():\n",
        "        X_test = Variable(torch.Tensor(test_data))\n",
        "\n",
        "        # Predict with softmax\n",
        "        pred_test = net(X_test, infer=True)\n",
        "        _, out_test = torch.max(pred_test, 1)\n",
        "\n",
        "        out_test = out_test.data.numpy()\n",
        "        test_label = np.array(test_label)\n",
        "\n",
        "        # Evaluate\n",
        "        acc_test = np.count_nonzero([out_test[i] == test_label[i] for i in range(out_test.shape[0])]) / out_test.shape[0]\n",
        "        err_test = 1 - acc_test\n",
        "        \n",
        "    test_acc.append(acc_test)\n",
        "    test_err.append(err_test)\n",
        "\n",
        "    print ('epoch', e, 'loss', np.mean(errs), 'test acc', acc_test)\n"
      ],
      "execution_count": 13,
      "outputs": [
        {
          "output_type": "stream",
          "text": [
            "/usr/local/lib/python3.7/dist-packages/ipykernel_launcher.py:17: UserWarning: Implicit dimension choice for softmax has been deprecated. Change the call to include dim=X as an argument.\n"
          ],
          "name": "stderr"
        },
        {
          "output_type": "stream",
          "text": [
            "epoch 0 loss 145.48921 test acc 0.209\n",
            "epoch 1 loss 114.58074 test acc 0.5095\n",
            "epoch 2 loss 41.297546 test acc 0.8917\n",
            "epoch 3 loss -0.16117296 test acc 0.9345\n",
            "epoch 4 loss -8.60138 test acc 0.9505\n",
            "epoch 5 loss -12.808995 test acc 0.9574\n",
            "epoch 6 loss -15.366996 test acc 0.9594\n",
            "epoch 7 loss -17.206041 test acc 0.9643\n",
            "epoch 8 loss -18.549707 test acc 0.9687\n",
            "epoch 9 loss -19.68087 test acc 0.9707\n",
            "epoch 10 loss -20.352201 test acc 0.973\n",
            "epoch 11 loss -21.108938 test acc 0.9736\n",
            "epoch 12 loss -21.83698 test acc 0.9744\n",
            "epoch 13 loss -22.195004 test acc 0.9761\n",
            "epoch 14 loss -22.677977 test acc 0.9776\n",
            "epoch 15 loss -23.14776 test acc 0.9775\n",
            "epoch 16 loss -23.600027 test acc 0.9781\n",
            "epoch 17 loss -24.010494 test acc 0.9792\n",
            "epoch 18 loss -24.284962 test acc 0.9802\n",
            "epoch 19 loss -24.415936 test acc 0.981\n",
            "epoch 20 loss -24.574446 test acc 0.9807\n",
            "epoch 21 loss -24.787678 test acc 0.9808\n",
            "epoch 22 loss -25.014227 test acc 0.9809\n",
            "epoch 23 loss -25.04015 test acc 0.9815\n",
            "epoch 24 loss -25.177622 test acc 0.9799\n",
            "epoch 25 loss -25.240498 test acc 0.9785\n",
            "epoch 26 loss -25.42435 test acc 0.9814\n",
            "epoch 27 loss -25.537718 test acc 0.9818\n",
            "epoch 28 loss -25.797907 test acc 0.982\n",
            "epoch 29 loss -25.87391 test acc 0.9817\n",
            "epoch 30 loss -25.94565 test acc 0.981\n",
            "epoch 31 loss -25.951273 test acc 0.9811\n",
            "epoch 32 loss -26.106218 test acc 0.9822\n",
            "epoch 33 loss -26.138226 test acc 0.9822\n",
            "epoch 34 loss -26.191322 test acc 0.982\n",
            "epoch 35 loss -26.243093 test acc 0.9815\n",
            "epoch 36 loss -26.285322 test acc 0.982\n",
            "epoch 37 loss -26.360523 test acc 0.9827\n",
            "epoch 38 loss -26.467308 test acc 0.982\n",
            "epoch 39 loss -26.47303 test acc 0.9828\n",
            "epoch 40 loss -26.496351 test acc 0.9823\n",
            "epoch 41 loss -26.501413 test acc 0.9828\n",
            "epoch 42 loss -26.563686 test acc 0.9827\n",
            "epoch 43 loss -26.62394 test acc 0.9831\n",
            "epoch 44 loss -26.585278 test acc 0.9829\n",
            "epoch 45 loss -26.704979 test acc 0.9829\n",
            "epoch 46 loss -26.626348 test acc 0.9826\n",
            "epoch 47 loss -26.806871 test acc 0.9812\n",
            "epoch 48 loss -26.845928 test acc 0.9838\n",
            "epoch 49 loss -26.76251 test acc 0.9826\n",
            "epoch 50 loss -26.820894 test acc 0.9821\n",
            "epoch 51 loss -26.947899 test acc 0.9831\n",
            "epoch 52 loss -26.976704 test acc 0.9829\n",
            "epoch 53 loss -26.966076 test acc 0.983\n",
            "epoch 54 loss -26.993853 test acc 0.9829\n",
            "epoch 55 loss -26.96576 test acc 0.9834\n",
            "epoch 56 loss -27.058916 test acc 0.9831\n",
            "epoch 57 loss -27.06381 test acc 0.9836\n",
            "epoch 58 loss -27.108572 test acc 0.9838\n",
            "epoch 59 loss -27.15858 test acc 0.9841\n",
            "epoch 60 loss -27.176008 test acc 0.983\n",
            "epoch 61 loss -27.248209 test acc 0.9841\n",
            "epoch 62 loss -27.149147 test acc 0.9832\n",
            "epoch 63 loss -27.233196 test acc 0.983\n",
            "epoch 64 loss -27.213 test acc 0.9839\n",
            "epoch 65 loss -27.286781 test acc 0.983\n",
            "epoch 66 loss -27.305607 test acc 0.9832\n",
            "epoch 67 loss -27.20148 test acc 0.9854\n",
            "epoch 68 loss -27.333057 test acc 0.9838\n",
            "epoch 69 loss -27.19839 test acc 0.9838\n",
            "epoch 70 loss -27.219404 test acc 0.9835\n",
            "epoch 71 loss -27.349157 test acc 0.9848\n",
            "epoch 72 loss -27.336704 test acc 0.9841\n",
            "epoch 73 loss -27.404945 test acc 0.9838\n",
            "epoch 74 loss -27.346195 test acc 0.9845\n",
            "epoch 75 loss -27.44495 test acc 0.9841\n",
            "epoch 76 loss -27.392004 test acc 0.9843\n",
            "epoch 77 loss -27.384577 test acc 0.9843\n",
            "epoch 78 loss -27.37325 test acc 0.9837\n",
            "epoch 79 loss -27.454702 test acc 0.9831\n",
            "epoch 80 loss -27.432198 test acc 0.9825\n",
            "epoch 81 loss -27.492842 test acc 0.9844\n",
            "epoch 82 loss -27.54098 test acc 0.9845\n",
            "epoch 83 loss -27.548134 test acc 0.9851\n",
            "epoch 84 loss -27.397123 test acc 0.984\n",
            "epoch 85 loss -27.467602 test acc 0.9835\n",
            "epoch 86 loss -27.298273 test acc 0.9838\n",
            "epoch 87 loss -27.414206 test acc 0.984\n",
            "epoch 88 loss -27.466213 test acc 0.9854\n",
            "epoch 89 loss -27.536121 test acc 0.9855\n",
            "epoch 90 loss -27.642567 test acc 0.9839\n",
            "epoch 91 loss -27.549398 test acc 0.9843\n",
            "epoch 92 loss -27.495308 test acc 0.9838\n",
            "epoch 93 loss -27.543604 test acc 0.9835\n",
            "epoch 94 loss -27.585907 test acc 0.9836\n",
            "epoch 95 loss -27.634758 test acc 0.9833\n",
            "epoch 96 loss -27.622923 test acc 0.9837\n",
            "epoch 97 loss -27.63012 test acc 0.9851\n",
            "epoch 98 loss -27.63096 test acc 0.9844\n",
            "epoch 99 loss -27.453896 test acc 0.9821\n",
            "epoch 100 loss -27.505735 test acc 0.9833\n",
            "epoch 101 loss -27.58347 test acc 0.9834\n",
            "epoch 102 loss -27.601665 test acc 0.9849\n",
            "epoch 103 loss -27.68174 test acc 0.9854\n",
            "epoch 104 loss -27.730024 test acc 0.985\n",
            "epoch 105 loss -27.630219 test acc 0.9835\n",
            "epoch 106 loss -27.72059 test acc 0.9841\n",
            "epoch 107 loss -27.751665 test acc 0.9828\n",
            "epoch 108 loss -27.652021 test acc 0.9847\n",
            "epoch 109 loss -27.657614 test acc 0.9838\n",
            "epoch 110 loss -27.78366 test acc 0.9842\n",
            "epoch 111 loss -27.746975 test acc 0.9858\n",
            "epoch 112 loss -27.723333 test acc 0.9843\n",
            "epoch 113 loss -27.578766 test acc 0.9842\n",
            "epoch 114 loss -27.590776 test acc 0.9838\n",
            "epoch 115 loss -27.672968 test acc 0.9853\n",
            "epoch 116 loss -27.763374 test acc 0.9853\n",
            "epoch 117 loss -27.769741 test acc 0.9843\n",
            "epoch 118 loss -27.618366 test acc 0.9852\n",
            "epoch 119 loss -27.671825 test acc 0.9842\n",
            "epoch 120 loss -27.831034 test acc 0.9845\n",
            "epoch 121 loss -27.712305 test acc 0.9846\n",
            "epoch 122 loss -27.784016 test acc 0.9843\n",
            "epoch 123 loss -27.81106 test acc 0.9847\n",
            "epoch 124 loss -27.846869 test acc 0.9849\n",
            "epoch 125 loss -27.839184 test acc 0.9852\n",
            "epoch 126 loss -27.811476 test acc 0.9844\n",
            "epoch 127 loss -27.743736 test acc 0.9841\n",
            "epoch 128 loss -27.702127 test acc 0.9848\n",
            "epoch 129 loss -27.737783 test acc 0.9847\n",
            "epoch 130 loss -27.853851 test acc 0.9846\n",
            "epoch 131 loss -27.82324 test acc 0.9849\n",
            "epoch 132 loss -27.717325 test acc 0.9846\n",
            "epoch 133 loss -27.82444 test acc 0.9854\n",
            "epoch 134 loss -27.85147 test acc 0.9841\n",
            "epoch 135 loss -27.848629 test acc 0.9851\n",
            "epoch 136 loss -27.88859 test acc 0.9837\n",
            "epoch 137 loss -27.871906 test acc 0.9847\n",
            "epoch 138 loss -27.867105 test acc 0.9834\n",
            "epoch 139 loss -27.876444 test acc 0.9844\n",
            "epoch 140 loss -27.785593 test acc 0.9844\n",
            "epoch 141 loss -27.893343 test acc 0.9846\n",
            "epoch 142 loss -27.923677 test acc 0.9847\n",
            "epoch 143 loss -27.960619 test acc 0.9846\n",
            "epoch 144 loss -27.952816 test acc 0.9851\n",
            "epoch 145 loss -27.94704 test acc 0.9851\n",
            "epoch 146 loss -27.89366 test acc 0.9823\n",
            "epoch 147 loss -27.901878 test acc 0.9855\n",
            "epoch 148 loss -27.884335 test acc 0.9849\n",
            "epoch 149 loss -27.974949 test acc 0.9856\n"
          ],
          "name": "stdout"
        }
      ]
    },
    {
      "cell_type": "code",
      "metadata": {
        "colab": {
          "base_uri": "https://localhost:8080/",
          "height": 300
        },
        "id": "wyyrk-3473lA",
        "outputId": "34d609bc-ad8a-4deb-88b5-0e72b4d1148c"
      },
      "source": [
        "test_err_plt = [err * 100 for err in test_err]\n",
        "\n",
        "plt.plot(test_err_plt)\n",
        "plt.xlabel('Epoch')\n",
        "plt.ylabel('Test Error (%)')\n",
        "plt.ylim(0, 9)\n",
        "plt.show()\n",
        "\n",
        "print(f'Test error is {test_err_plt[-1]:.2f}% after {n_epochs} epochs')\n",
        "\n",
        "# plt.plot(test_acc, label=\"Test Accuracy\")"
      ],
      "execution_count": 14,
      "outputs": [
        {
          "output_type": "display_data",
          "data": {
            "image/png": "[encoded data removed]",
            "text/plain": [
              "<Figure size 432x288 with 1 Axes>"
            ]
          },
          "metadata": {
            "tags": [],
            "needs_background": "light"
          }
        },
        {
          "output_type": "stream",
          "text": [
            "Test error is 1.44% after 150 epochs\n"
          ],
          "name": "stdout"
        }
      ]
    },
    {
      "cell_type": "markdown",
      "metadata": {
        "id": "Yfv6nZ7NU_C3"
      },
      "source": [
        "Paper: https://arxiv.org/pdf/1505.05424.pdf\n",
        "\n",
        "Code: https://gist.github.com/vvanirudh/9e30b2f908e801da1bd789f4ce3e7aac\n"
      ]
    }
  ]
}